{
  "nbformat": 4,
  "nbformat_minor": 0,
  "metadata": {
    "colab": {
      "name": "30-01-2021 & 02-02-2021.ipynb",
      "provenance": [],
      "collapsed_sections": [],
      "authorship_tag": "ABX9TyNnIu7inhLWeLnsU1+2K1LD",
      "include_colab_link": true
    },
    "kernelspec": {
      "name": "python3",
      "display_name": "Python 3"
    }
  },
  "cells": [
    {
      "cell_type": "markdown",
      "metadata": {
        "id": "view-in-github",
        "colab_type": "text"
      },
      "source": [
        "<a href=\"https://colab.research.google.com/github/uddinmoiz44/Saylani-ai/blob/main/30_01_2021_%26_02_02_2021.ipynb\" target=\"_parent\"><img src=\"https://colab.research.google.com/assets/colab-badge.svg\" alt=\"Open In Colab\"/></a>"
      ]
    },
    {
      "cell_type": "markdown",
      "metadata": {
        "id": "llh-BO2wnUas"
      },
      "source": [
        "\r\n",
        "\r\n",
        "class me characteristics(variable) and behavior(functions) hoti h object ke\r\n"
      ]
    },
    {
      "cell_type": "code",
      "metadata": {
        "id": "DsMPpJyJmRLy"
      },
      "source": [
        "class Dog():\r\n",
        "  def __init__(self,name,age,breed,color):\r\n",
        "    self.name=name\r\n",
        "    self.age=age\r\n",
        "    self.breed=breed\r\n",
        "    self.color=color\r\n",
        "    self.hair=\"black\"\r\n",
        "  def bark(self):\r\n",
        "    print(\"normal dog barks\")\r\n",
        "  def walk():\r\n",
        "    pass\r\n",
        "  def bite():\r\n",
        "    pass\r\n",
        "  def get_dog(self):\r\n",
        "    dog_info=self.name+' '+str(self.age)+' '+self.breed+' '+self.color+' '+self.hair\r\n",
        "    return(dog_info)\r\n",
        "  def set_dog(self,h):\r\n",
        "    self.hair=h\r\n",
        "\r\n"
      ],
      "execution_count": 38,
      "outputs": []
    },
    {
      "cell_type": "code",
      "metadata": {
        "id": "KtiqHJPmLD-9"
      },
      "source": [
        "dog1=Dog(\"Sam\",2,\"German\",\"white\")\r\n"
      ],
      "execution_count": 24,
      "outputs": []
    },
    {
      "cell_type": "code",
      "metadata": {
        "id": "5ZmtlbZANDa5"
      },
      "source": [
        "dog1.set_dog(\"red\")"
      ],
      "execution_count": 25,
      "outputs": []
    },
    {
      "cell_type": "code",
      "metadata": {
        "colab": {
          "base_uri": "https://localhost:8080/",
          "height": 35
        },
        "id": "-ZWyI7faNdOB",
        "outputId": "58ad753f-5316-4eba-c8ba-51718613273e"
      },
      "source": [
        "dog1.get_dog()"
      ],
      "execution_count": 26,
      "outputs": [
        {
          "output_type": "execute_result",
          "data": {
            "application/vnd.google.colaboratory.intrinsic+json": {
              "type": "string"
            },
            "text/plain": [
              "'Sam 2 German white red'"
            ]
          },
          "metadata": {
            "tags": []
          },
          "execution_count": 26
        }
      ]
    },
    {
      "cell_type": "code",
      "metadata": {
        "id": "yqnSAlXBXXyo"
      },
      "source": [
        "class GermanDog(Dog):\r\n",
        "  def __init__(self,name,age,breed,color,size):\r\n",
        "    super().__init__(name,age,breed,color)\r\n",
        "    self.size=size"
      ],
      "execution_count": 40,
      "outputs": []
    },
    {
      "cell_type": "code",
      "metadata": {
        "id": "vDxphrzXZVRs"
      },
      "source": [
        "mydog=GermanDog(\"sammmy\",23,\"german\",\"black\",\"large\")"
      ],
      "execution_count": 41,
      "outputs": []
    },
    {
      "cell_type": "code",
      "metadata": {
        "colab": {
          "base_uri": "https://localhost:8080/",
          "height": 35
        },
        "id": "Tp7WbBoLakZT",
        "outputId": "8a235a5b-4b5c-4374-fac5-531fabbafdc3"
      },
      "source": [
        "mydog.size"
      ],
      "execution_count": 31,
      "outputs": [
        {
          "output_type": "execute_result",
          "data": {
            "application/vnd.google.colaboratory.intrinsic+json": {
              "type": "string"
            },
            "text/plain": [
              "'large'"
            ]
          },
          "metadata": {
            "tags": []
          },
          "execution_count": 31
        }
      ]
    },
    {
      "cell_type": "code",
      "metadata": {
        "colab": {
          "base_uri": "https://localhost:8080/"
        },
        "id": "68mgi4Jcf7V2",
        "outputId": "a9b6a15a-c00a-4b4d-e82e-d2ff3b60b3d8"
      },
      "source": [
        "mydog.bark()"
      ],
      "execution_count": 42,
      "outputs": [
        {
          "output_type": "stream",
          "text": [
            "normal dog barks\n"
          ],
          "name": "stdout"
        }
      ]
    },
    {
      "cell_type": "code",
      "metadata": {
        "colab": {
          "base_uri": "https://localhost:8080/",
          "height": 35
        },
        "id": "9qReaopEbTuC",
        "outputId": "bfb9b06f-8a6f-427d-e99f-b5723b1c76a4"
      },
      "source": [
        "mydog.get_dog()"
      ],
      "execution_count": 34,
      "outputs": [
        {
          "output_type": "execute_result",
          "data": {
            "application/vnd.google.colaboratory.intrinsic+json": {
              "type": "string"
            },
            "text/plain": [
              "'sammmy 23 german black black'"
            ]
          },
          "metadata": {
            "tags": []
          },
          "execution_count": 34
        }
      ]
    },
    {
      "cell_type": "code",
      "metadata": {
        "id": "sPL9QBuINAf7"
      },
      "source": [
        "dog2=Dog(\"Sam\",2,\"German\",\"white\")"
      ],
      "execution_count": null,
      "outputs": []
    },
    {
      "cell_type": "code",
      "metadata": {
        "id": "4Zc9SUUGsfYR"
      },
      "source": [
        "dog2=Dog(\"Sam\",2,\"German\",\"white\")"
      ],
      "execution_count": null,
      "outputs": []
    },
    {
      "cell_type": "code",
      "metadata": {
        "colab": {
          "base_uri": "https://localhost:8080/",
          "height": 35
        },
        "id": "Hm4lvjjosUpT",
        "outputId": "44ff6f2e-00ff-4cab-d233-2f6452cf5924"
      },
      "source": [
        "dog2.name"
      ],
      "execution_count": null,
      "outputs": [
        {
          "output_type": "execute_result",
          "data": {
            "application/vnd.google.colaboratory.intrinsic+json": {
              "type": "string"
            },
            "text/plain": [
              "'Sam'"
            ]
          },
          "metadata": {
            "tags": []
          },
          "execution_count": 6
        }
      ]
    },
    {
      "cell_type": "code",
      "metadata": {
        "id": "uvcUSVVo0_0f"
      },
      "source": [
        "class Human():\r\n",
        "  death=\"one day come\"\r\n",
        "  def __init__(self,name,age,blood_group):\r\n",
        "    self.name=name\r\n",
        "    self.age=age\r\n",
        "    self.blood_group=blood_group\r\n",
        "\r\n",
        "  def speak(self):\r\n",
        "     print(f\"{self.name} is speaking\")\r\n",
        "  def eat(self):\r\n",
        "    print(f\"{self.name} is eating\")\r\n"
      ],
      "execution_count": null,
      "outputs": []
    },
    {
      "cell_type": "code",
      "metadata": {
        "colab": {
          "base_uri": "https://localhost:8080/",
          "height": 35
        },
        "id": "7GIKScL51wd1",
        "outputId": "bbf1a4b0-d657-4796-c633-217873ed3279"
      },
      "source": [
        "h1=Human(\"moiz\",26,\"B+\")\r\n",
        "h1.death\r\n",
        "\r\n"
      ],
      "execution_count": null,
      "outputs": [
        {
          "output_type": "execute_result",
          "data": {
            "application/vnd.google.colaboratory.intrinsic+json": {
              "type": "string"
            },
            "text/plain": [
              "'one day come'"
            ]
          },
          "metadata": {
            "tags": []
          },
          "execution_count": 18
        }
      ]
    },
    {
      "cell_type": "code",
      "metadata": {
        "id": "1Km0o1FS2b8s"
      },
      "source": [
        "h2=Human(\"ali\",36,\"A\")"
      ],
      "execution_count": null,
      "outputs": []
    },
    {
      "cell_type": "code",
      "metadata": {
        "colab": {
          "base_uri": "https://localhost:8080/",
          "height": 52
        },
        "id": "CGoBQoqK2kWz",
        "outputId": "53ad7722-9611-43ae-e7c4-dc78e9137fc0"
      },
      "source": [
        "h2.eat()\r\n",
        "h2.death"
      ],
      "execution_count": null,
      "outputs": [
        {
          "output_type": "stream",
          "text": [
            "ali is eating\n"
          ],
          "name": "stdout"
        },
        {
          "output_type": "execute_result",
          "data": {
            "application/vnd.google.colaboratory.intrinsic+json": {
              "type": "string"
            },
            "text/plain": [
              "'one day come'"
            ]
          },
          "metadata": {
            "tags": []
          },
          "execution_count": 21
        }
      ]
    },
    {
      "cell_type": "code",
      "metadata": {
        "id": "iu4qjSMI5Grl"
      },
      "source": [
        "class Student():\r\n",
        "  def __init__(self,name,classs,rollno):\r\n",
        "    self.name=name\r\n",
        "    self.classs=classs\r\n",
        "    self.rollno=rollno\r\n",
        "  def exam(self):\r\n",
        "    print(f\"{self.name} will appear final examination of second semester\")\r\n",
        "  def fees(self):\r\n",
        "    print(f\"{self.name} has submitted his fees\")\r\n",
        "\r\n",
        "    "
      ],
      "execution_count": null,
      "outputs": []
    },
    {
      "cell_type": "code",
      "metadata": {
        "colab": {
          "base_uri": "https://localhost:8080/"
        },
        "id": "sn55RVtK5xY7",
        "outputId": "7dbfbf8e-0fcc-46df-ba0f-05132ea5f565"
      },
      "source": [
        "s1=Student(\"moiz\",\"second year\",2419)\r\n",
        "s1.exam()"
      ],
      "execution_count": null,
      "outputs": [
        {
          "output_type": "stream",
          "text": [
            "moiz will appear final examination of second semester\n"
          ],
          "name": "stdout"
        }
      ]
    },
    {
      "cell_type": "code",
      "metadata": {
        "colab": {
          "base_uri": "https://localhost:8080/"
        },
        "id": "n2BbWXO_6Gqz",
        "outputId": "4804bc27-be67-4244-91d3-02ec89a4a4e1"
      },
      "source": [
        "help(Student)\r\n",
        "type(Student)  \r\n"
      ],
      "execution_count": null,
      "outputs": [
        {
          "output_type": "stream",
          "text": [
            "Help on class Student in module __main__:\n",
            "\n",
            "class Student(builtins.object)\n",
            " |  Methods defined here:\n",
            " |  \n",
            " |  __init__(self, name, classs, rollno)\n",
            " |      Initialize self.  See help(type(self)) for accurate signature.\n",
            " |  \n",
            " |  exam(self)\n",
            " |  \n",
            " |  fees(self)\n",
            " |  \n",
            " |  ----------------------------------------------------------------------\n",
            " |  Data descriptors defined here:\n",
            " |  \n",
            " |  __dict__\n",
            " |      dictionary for instance variables (if defined)\n",
            " |  \n",
            " |  __weakref__\n",
            " |      list of weak references to the object (if defined)\n",
            "\n"
          ],
          "name": "stdout"
        },
        {
          "output_type": "execute_result",
          "data": {
            "text/plain": [
              "type"
            ]
          },
          "metadata": {
            "tags": []
          },
          "execution_count": 35
        }
      ]
    },
    {
      "cell_type": "code",
      "metadata": {
        "id": "pHcEJac2AQCB"
      },
      "source": [
        ""
      ],
      "execution_count": null,
      "outputs": []
    },
    {
      "cell_type": "code",
      "metadata": {
        "id": "zKnSDQ_66IJ6"
      },
      "source": [
        ""
      ],
      "execution_count": null,
      "outputs": []
    }
  ]
}