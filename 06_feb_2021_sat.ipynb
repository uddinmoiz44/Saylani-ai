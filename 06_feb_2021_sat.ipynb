{
  "nbformat": 4,
  "nbformat_minor": 0,
  "metadata": {
    "colab": {
      "name": "06-feb-2021-sat.ipynb",
      "provenance": [],
      "toc_visible": true,
      "authorship_tag": "ABX9TyPWhvu4MOQDDOUS5zj382Tr",
      "include_colab_link": true
    },
    "kernelspec": {
      "name": "python3",
      "display_name": "Python 3"
    }
  },
  "cells": [
    {
      "cell_type": "markdown",
      "metadata": {
        "id": "view-in-github",
        "colab_type": "text"
      },
      "source": [
        "<a href=\"https://colab.research.google.com/github/uddinmoiz44/Saylani-ai/blob/main/06_feb_2021_sat.ipynb\" target=\"_parent\"><img src=\"https://colab.research.google.com/assets/colab-badge.svg\" alt=\"Open In Colab\"/></a>"
      ]
    },
    {
      "cell_type": "code",
      "metadata": {
        "id": "KnWZ5zkHlssh"
      },
      "source": [
        "class School():\r\n",
        "  def __init__(self,name,roll_no):\r\n",
        "    self.name=name\r\n",
        "    self.roll_no=roll_no\r\n",
        "  def display(self):\r\n",
        "    print(self.name,self.roll_no)\r\n",
        "  \r\n"
      ],
      "execution_count": null,
      "outputs": []
    },
    {
      "cell_type": "code",
      "metadata": {
        "colab": {
          "base_uri": "https://localhost:8080/"
        },
        "id": "5ly2SteMmdMG",
        "outputId": "443b66c9-52e9-44d7-fc4f-4972434f3e4e"
      },
      "source": [
        "s1=School(\"sami\",4251)\r\n",
        "type(s1.roll_no)"
      ],
      "execution_count": null,
      "outputs": [
        {
          "output_type": "execute_result",
          "data": {
            "text/plain": [
              "int"
            ]
          },
          "metadata": {
            "tags": []
          },
          "execution_count": 9
        }
      ]
    },
    {
      "cell_type": "code",
      "metadata": {
        "id": "UVoNVtg9t3MF"
      },
      "source": [
        ""
      ],
      "execution_count": 35,
      "outputs": []
    },
    {
      "cell_type": "markdown",
      "metadata": {
        "id": "Avr9Z1qV8ioM"
      },
      "source": [
        "**File read and write**"
      ]
    },
    {
      "cell_type": "code",
      "metadata": {
        "id": "iwA6dLl-8VrF"
      },
      "source": [
        "with open(\"car.txt\",'w') as obj:\r\n",
        "  obj.write(\"hello world..... for filing\")"
      ],
      "execution_count": 41,
      "outputs": []
    },
    {
      "cell_type": "code",
      "metadata": {
        "id": "QxhTjQO1ymxI"
      },
      "source": [
        "with open(\"hello.txt\",'w') as obj:\r\n",
        "  obj.write(\"hello world i m file that does not exist1 \")\r\n",
        "  obj.write(\"hello world i m file that does not exist 2 \")\r\n",
        "  obj.write(\"hello world i m file that does not exist 3 \")\r\n",
        "  obj.write(\"hello world i m file that does not exist 4 \")\r\n",
        "  obj.write(\"hello world i m file that does not exist 5 \")\r\n",
        "  obj.write(\"hello world i m file that does not exist 6 \")\r\n",
        "  obj.write(\"hello world i m file that does not exist 7 \")\r\n",
        "  obj.write(\"hello world i m file that does not exist 8 \")\r\n",
        "  obj.write(\"hello world i m file that does not exist 9 \")\r\n",
        "\r\n"
      ],
      "execution_count": 51,
      "outputs": []
    },
    {
      "cell_type": "code",
      "metadata": {
        "id": "Uebuk699C5WE"
      },
      "source": [
        "with open(\"hello.txt\",'r') as d:\r\n",
        "  line=d.readline()"
      ],
      "execution_count": 59,
      "outputs": []
    },
    {
      "cell_type": "code",
      "metadata": {
        "colab": {
          "base_uri": "https://localhost:8080/",
          "height": 35
        },
        "id": "WPhzVR1aCsZG",
        "outputId": "4b3554ae-2b32-4c73-db46-8a4ff6afd82d"
      },
      "source": [
        "line"
      ],
      "execution_count": 60,
      "outputs": [
        {
          "output_type": "execute_result",
          "data": {
            "application/vnd.google.colaboratory.intrinsic+json": {
              "type": "string"
            },
            "text/plain": [
              "'hello world i m file that does not exist1 hello world \\n'"
            ]
          },
          "metadata": {
            "tags": []
          },
          "execution_count": 60
        }
      ]
    },
    {
      "cell_type": "code",
      "metadata": {
        "id": "YBTWxuG5ueR9",
        "colab": {
          "base_uri": "https://localhost:8080/"
        },
        "outputId": "4ba208c6-5aaa-4825-cd0a-e4f68d607020"
      },
      "source": [
        "with open(\"car.txt\",'r') as f:\r\n",
        "  content=f.read()\r\n",
        "  f.seek(10)\r\n",
        "  content1=f.read()\r\n",
        "  print(content)\r\n",
        "  print(content1)\r\n"
      ],
      "execution_count": 47,
      "outputs": [
        {
          "output_type": "stream",
          "text": [
            "hello world..... for filing\n",
            "d..... for filing\n"
          ],
          "name": "stdout"
        }
      ]
    },
    {
      "cell_type": "code",
      "metadata": {
        "id": "2fIGMbrK-2Oo"
      },
      "source": [
        "with open(\"car.txt\",'a') as obj:\r\n",
        "  obj.write(\"hello world append data\")"
      ],
      "execution_count": 62,
      "outputs": []
    },
    {
      "cell_type": "code",
      "metadata": {
        "id": "H5oImCsZnEB0"
      },
      "source": [
        ""
      ],
      "execution_count": null,
      "outputs": []
    }
  ]
}