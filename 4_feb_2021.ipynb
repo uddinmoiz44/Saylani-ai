{
  "nbformat": 4,
  "nbformat_minor": 0,
  "metadata": {
    "colab": {
      "name": "4-feb-2021.ipynb",
      "provenance": [],
      "authorship_tag": "ABX9TyM3PZqNiMUB6WhYJPCJKHnz",
      "include_colab_link": true
    },
    "kernelspec": {
      "name": "python3",
      "display_name": "Python 3"
    }
  },
  "cells": [
    {
      "cell_type": "markdown",
      "metadata": {
        "id": "view-in-github",
        "colab_type": "text"
      },
      "source": [
        "<a href=\"https://colab.research.google.com/github/uddinmoiz44/Saylani-ai/blob/main/4_feb_2021.ipynb\" target=\"_parent\"><img src=\"https://colab.research.google.com/assets/colab-badge.svg\" alt=\"Open In Colab\"/></a>"
      ]
    },
    {
      "cell_type": "code",
      "metadata": {
        "id": "4f-P4G4cc6DD"
      },
      "source": [
        "class Battery():\r\n",
        "  def __init__(self,amp,plates,manuf):\r\n",
        "    self.amp=amp\r\n",
        "    self.plates=plates\r\n",
        "    self.manuf=munuf\r\n",
        "  def get_amp(self):\r\n",
        "    return self.amp\r\n",
        "    "
      ],
      "execution_count": null,
      "outputs": []
    },
    {
      "cell_type": "code",
      "metadata": {
        "id": "-PSTNWz3fSVc"
      },
      "source": [
        "class Restaurant():\r\n",
        "  def __init__(self,r_name,r_cuisine):\r\n",
        "   self.r_name=r_name\r\n",
        "   self.r_cuisine=r_cuisine\r\n",
        "  def describe_restaurant(self):\r\n",
        "    des_res=self.r_name+\" \"+ self.r_cuisine\r\n",
        "    return des_res\r\n",
        "  def open_restaurant(self):\r\n",
        "    print(\"The restaurant is open\")\r\n"
      ],
      "execution_count": 20,
      "outputs": []
    },
    {
      "cell_type": "code",
      "metadata": {
        "id": "FccmyThNxQZB"
      },
      "source": [
        "class IceCreamStand(Restaurant):\r\n",
        "  def __init__(self,r_name,r_cuisine):\r\n",
        "   super().__init__(r_name,r_cuisine)\r\n",
        "   self.flavor=[\"a\",\"b\",\"c\"]\r\n",
        "  def showFlavor(self):\r\n",
        "    for i in self.flavor:\r\n",
        "      print(f\"available flavor is {i}, end=','\")"
      ],
      "execution_count": 27,
      "outputs": []
    },
    {
      "cell_type": "code",
      "metadata": {
        "colab": {
          "base_uri": "https://localhost:8080/"
        },
        "id": "Xc9skIGuy7Y0",
        "outputId": "3459d0ff-8dc2-4c58-ca52-b41d8a0c2e85"
      },
      "source": [
        "istand=IceCreamStand(\"mozi\",\"anda\")\r\n",
        "istand.showFlavor()"
      ],
      "execution_count": 28,
      "outputs": [
        {
          "output_type": "stream",
          "text": [
            "available flavor is a, end=','\n",
            "available flavor is b, end=','\n",
            "available flavor is c, end=','\n"
          ],
          "name": "stdout"
        }
      ]
    },
    {
      "cell_type": "code",
      "metadata": {
        "colab": {
          "base_uri": "https://localhost:8080/"
        },
        "id": "SDxBLBBvgqVH",
        "outputId": "c344c5f5-ed7e-4633-ea5d-d321ff773b6b"
      },
      "source": [
        "r1=Restaurant(\"aladin\",\"sabc\")\r\n",
        "print(r1.describe_restaurant())\r\n",
        "r1.open_restaurant()"
      ],
      "execution_count": null,
      "outputs": [
        {
          "output_type": "stream",
          "text": [
            "aladin sabc\n",
            "The restaurant is open\n"
          ],
          "name": "stdout"
        }
      ]
    },
    {
      "cell_type": "code",
      "metadata": {
        "id": "4_UtYz8YxNV1"
      },
      "source": [
        ""
      ],
      "execution_count": null,
      "outputs": []
    }
  ]
}